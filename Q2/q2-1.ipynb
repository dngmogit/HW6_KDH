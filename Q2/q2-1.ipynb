{
 "cells": [
  {
   "cell_type": "code",
   "execution_count": 48,
   "id": "d49c3860",
   "metadata": {},
   "outputs": [],
   "source": [
    "import random\n",
    "import csv\n",
    "\n",
    "def dice(n):\n",
    "    count = [0]*6\n",
    "\n",
    "    for i in range(n):\n",
    "        k = random.randrange(1,7)\n",
    "        if k ==1 :\n",
    "            count[0]=count[0]+1\n",
    "        elif k ==2 :\n",
    "            count[1]=count[1]+1\n",
    "        elif k ==3 :\n",
    "            count[2]=count[2]+1\n",
    "        elif k ==4 :\n",
    "            count[3]=count[3]+1\n",
    "        elif k ==5 :\n",
    "            count[4]=count[4]+1\n",
    "        else :\n",
    "            count[5]=count[5]+1\n",
    "    return count\n",
    "        \n",
    "def write(count,a):\n",
    "    b = csv.writer(a)\n",
    "    c = 0\n",
    "    for i in range(6):\n",
    "        c += count[i]\n",
    "    \n",
    "    out = str(c)+\" trials\"    \n",
    "    b.writerow([out])\n",
    "    for i in range(6):\n",
    "        b.writerow([i+1,count[i]])   \n",
    "    \n",
    "def main():\n",
    "    \n",
    "    f= open('result.csv','w',newline='')\n",
    "    wr = csv.writer(f)\n",
    "    \n",
    "    one = dice(100)\n",
    "    two = dice(1000)\n",
    "    three = dice(10000)\n",
    "    four = dice(100000)\n",
    "    \n",
    "    write(one,f)\n",
    "    write(two,f)\n",
    "    write(three,f)\n",
    "    write(four,f)\n",
    "\n",
    "    f.close()\n",
    "\n",
    "if __name__ == \"__main__\":\n",
    "    main()\n"
   ]
  },
  {
   "cell_type": "code",
   "execution_count": null,
   "id": "97fd266c",
   "metadata": {},
   "outputs": [],
   "source": [
    "\n"
   ]
  },
  {
   "cell_type": "code",
   "execution_count": null,
   "id": "88c59da4",
   "metadata": {},
   "outputs": [],
   "source": []
  }
 ],
 "metadata": {
  "kernelspec": {
   "display_name": "Python 3 (ipykernel)",
   "language": "python",
   "name": "python3"
  },
  "language_info": {
   "codemirror_mode": {
    "name": "ipython",
    "version": 3
   },
   "file_extension": ".py",
   "mimetype": "text/x-python",
   "name": "python",
   "nbconvert_exporter": "python",
   "pygments_lexer": "ipython3",
   "version": "3.10.9"
  }
 },
 "nbformat": 4,
 "nbformat_minor": 5
}
